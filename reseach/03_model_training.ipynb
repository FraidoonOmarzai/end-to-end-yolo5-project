{
 "cells": [
  {
   "cell_type": "code",
   "execution_count": 1,
   "metadata": {},
   "outputs": [
    {
     "data": {
      "text/plain": [
       "'c:\\\\Users\\\\44787\\\\Desktop\\\\projects\\\\end-to-end-yolo5-project\\\\reseach'"
      ]
     },
     "execution_count": 1,
     "metadata": {},
     "output_type": "execute_result"
    }
   ],
   "source": [
    "%pwd"
   ]
  },
  {
   "cell_type": "code",
   "execution_count": 2,
   "metadata": {},
   "outputs": [
    {
     "data": {
      "text/plain": [
       "'c:\\\\Users\\\\44787\\\\Desktop\\\\projects\\\\end-to-end-yolo5-project'"
      ]
     },
     "execution_count": 2,
     "metadata": {},
     "output_type": "execute_result"
    }
   ],
   "source": [
    "import os \n",
    "\n",
    "os.chdir(\"../\")\n",
    "%pwd"
   ]
  },
  {
   "cell_type": "code",
   "execution_count": 31,
   "metadata": {},
   "outputs": [],
   "source": [
    "from dataclasses import dataclass\n",
    "from pathlib import Path\n",
    "\n",
    "@dataclass\n",
    "class ModelTrainConfig:\n",
    "    root_dir: Path\n",
    "    yolo5_rep_path: Path\n",
    "    defined_yaml_file: Path\n",
    "    MODEL_TRAINER_PRETRAINED_WEIGHT_NAME: str"
   ]
  },
  {
   "cell_type": "code",
   "execution_count": 7,
   "metadata": {},
   "outputs": [],
   "source": [
    "from yolo5.logger import logging\n",
    "from yolo5.constant import *\n",
    "from yolo5.entity.config_entity import read_yaml, create_directories"
   ]
  },
  {
   "cell_type": "code",
   "execution_count": 32,
   "metadata": {},
   "outputs": [],
   "source": [
    "class ConfigurationManager:\n",
    "    def __init__(self, config=CONFIG_PATH):\n",
    "        self.config = read_yaml(config)\n",
    "        \n",
    "    def get_model_train_config(self)-> ModelTrainConfig:\n",
    "        config = self.config.model_training\n",
    "        create_directories([config.root_dir])\n",
    "        \n",
    "        model_train_config = ModelTrainConfig(\n",
    "            root_dir = config.root_dir,\n",
    "            yolo5_rep_path=config.yolo5_rep_path,\n",
    "            defined_yaml_file=config.defined_yaml_file,\n",
    "            MODEL_TRAINER_PRETRAINED_WEIGHT_NAME=config.MODEL_TRAINER_PRETRAINED_WEIGHT_NAME,\n",
    "        )\n",
    "        return model_train_config"
   ]
  },
  {
   "cell_type": "code",
   "execution_count": 8,
   "metadata": {},
   "outputs": [
    {
     "name": "stderr",
     "output_type": "stream",
     "text": [
      "Cloning into 'yolov5'...\n"
     ]
    }
   ],
   "source": [
    "# clone YOLOv5 repository\n",
    "!git clone https://github.com/ultralytics/yolov5.git"
   ]
  },
  {
   "cell_type": "code",
   "execution_count": 53,
   "metadata": {},
   "outputs": [],
   "source": [
    "from yolo5.exception import AppException\n",
    "import os\n",
    "import sys\n",
    "import yaml"
   ]
  },
  {
   "cell_type": "code",
   "execution_count": null,
   "metadata": {},
   "outputs": [],
   "source": []
  },
  {
   "cell_type": "code",
   "execution_count": null,
   "metadata": {},
   "outputs": [],
   "source": [
    "%%writetemplate /content/yolov5/models/custom_yolov5s.yaml\n",
    "\n",
    "# parameters\n",
    "nc: {num_classes}  # number of classes\n",
    "depth_multiple: 0.33  # model depth multiple\n",
    "width_multiple: 0.50  # layer channel multiple\n",
    "\n",
    "# anchors\n",
    "anchors:\n",
    "  - [10,13, 16,30, 33,23]  # P3/8\n",
    "  - [30,61, 62,45, 59,119]  # P4/16\n",
    "  - [116,90, 156,198, 373,326]  # P5/32\n",
    "\n",
    "# YOLOv5 backbone\n",
    "backbone:\n",
    "  # [from, number, module, args]\n",
    "  [[-1, 1, Focus, [64, 3]],  # 0-P1/2\n",
    "   [-1, 1, Conv, [128, 3, 2]],  # 1-P2/4\n",
    "   [-1, 3, BottleneckCSP, [128]],\n",
    "   [-1, 1, Conv, [256, 3, 2]],  # 3-P3/8\n",
    "   [-1, 9, BottleneckCSP, [256]],\n",
    "   [-1, 1, Conv, [512, 3, 2]],  # 5-P4/16\n",
    "   [-1, 9, BottleneckCSP, [512]],\n",
    "   [-1, 1, Conv, [1024, 3, 2]],  # 7-P5/32\n",
    "   [-1, 1, SPP, [1024, [5, 9, 13]]],\n",
    "   [-1, 3, BottleneckCSP, [1024, False]],  # 9\n",
    "  ]\n",
    "\n",
    "# YOLOv5 head\n",
    "head:\n",
    "  [[-1, 1, Conv, [512, 1, 1]],\n",
    "   [-1, 1, nn.Upsample, [None, 2, 'nearest']],\n",
    "   [[-1, 6], 1, Concat, [1]],  # cat backbone P4\n",
    "   [-1, 3, BottleneckCSP, [512, False]],  # 13\n",
    "\n",
    "   [-1, 1, Conv, [256, 1, 1]],\n",
    "   [-1, 1, nn.Upsample, [None, 2, 'nearest']],\n",
    "   [[-1, 4], 1, Concat, [1]],  # cat backbone P3\n",
    "   [-1, 3, BottleneckCSP, [256, False]],  # 17 (P3/8-small)\n",
    "\n",
    "   [-1, 1, Conv, [256, 3, 2]],\n",
    "   [[-1, 14], 1, Concat, [1]],  # cat head P4\n",
    "   [-1, 3, BottleneckCSP, [512, False]],  # 20 (P4/16-medium)\n",
    "\n",
    "   [-1, 1, Conv, [512, 3, 2]],\n",
    "   [[-1, 10], 1, Concat, [1]],  # cat head P5\n",
    "   [-1, 3, BottleneckCSP, [1024, False]],  # 23 (P5/32-large)\n",
    "\n",
    "   [[17, 20, 23], 1, Detect, [nc, anchors]],  # Detect(P3, P4, P5)\n",
    "  ]"
   ]
  },
  {
   "cell_type": "code",
   "execution_count": 76,
   "metadata": {},
   "outputs": [],
   "source": [
    "class ModelTraining:\n",
    "    def __init__(self, config:ModelTrainConfig):\n",
    "        self.config = config\n",
    "    \n",
    "    def mode_train(self):\n",
    "        logging.info(\"clone the yolo5 repository\")\n",
    "        # os.system(f\"git clone {self.config.yolo5_rep_path}\")\n",
    "        \n",
    "        \n",
    "        with open(self.config.defined_yaml_file, 'r') as stream:\n",
    "            num_classes = str(yaml.safe_load(stream)['nc'])\n",
    "            \n",
    "        \n",
    "        with open('yolov5/models/yolov5s.yaml', \"rb\") as yaml_file:\n",
    "            logging.info(\"Read yaml file successfully\")\n",
    "            model_yaml =  yaml.safe_load(yaml_file)\n",
    "            \n",
    "        # print(model_yaml)\n",
    "        model_yaml['nc'] = int(num_classes)\n",
    "        # print(model_yaml)\n",
    "        \n",
    "        print(self.config.MODEL_TRAINER_PRETRAINED_WEIGHT_NAME)\n",
    "        with open(f'yolov5/models/custom_{self.config.MODEL_TRAINER_PRETRAINED_WEIGHT_NAME}.yaml', 'w') as f:\n",
    "                yaml.dump(model_yaml, f)\n",
    "                \n",
    "                \n",
    "        batch_size = 16\n",
    "        no_epochs = 1\n",
    "        weight_name = \"yolov5s.pt\"\n",
    "                \n",
    "        # os.system(f\"cd yolov5/ && python train.py --img 416 --batch {batch_size} --epochs {no_epochs} --data ../data.yaml --cfg ./models/custom_yolov5s.yaml --weights {weight_name} --name yolov5s_results  --cache\")\n",
    "        os.system(f\"python train.py --img 416 --batch {batch_size} --epochs {no_epochs} --data ../data.yaml --cfg ./models/custom_yolov5s.yaml --weights {weight_name} --name yolov5s_results  --cache\")\n",
    "        \n",
    "        os.system(\"cp yolov5/runs/train/yolov5s_results/weights/best.pt yolov5/\")\n",
    "        os.makedirs(self.config.root_dir, exist_ok=True)\n",
    "        os.system(f\"cp yolov5/runs/train/yolov5s_results/weights/best.pt {self.config.root_dir}/\")\n",
    "           \n",
    "        os.system(\"rm -rf yolov5/runs\")\n",
    "    \n",
    "        "
   ]
  },
  {
   "cell_type": "code",
   "execution_count": 77,
   "metadata": {},
   "outputs": [
    {
     "name": "stdout",
     "output_type": "stream",
     "text": [
      "yolov5s\n"
     ]
    }
   ],
   "source": [
    "try:\n",
    "    config = ConfigurationManager()\n",
    "    model_train_config = config.get_model_train_config()\n",
    "    model = ModelTraining(model_train_config)\n",
    "    model.mode_train()\n",
    "except Exception as e:\n",
    "    raise AppException(e, sys)"
   ]
  },
  {
   "cell_type": "code",
   "execution_count": null,
   "metadata": {},
   "outputs": [],
   "source": []
  }
 ],
 "metadata": {
  "kernelspec": {
   "display_name": "yolo5",
   "language": "python",
   "name": "python3"
  },
  "language_info": {
   "codemirror_mode": {
    "name": "ipython",
    "version": 3
   },
   "file_extension": ".py",
   "mimetype": "text/x-python",
   "name": "python",
   "nbconvert_exporter": "python",
   "pygments_lexer": "ipython3",
   "version": "3.7.16"
  }
 },
 "nbformat": 4,
 "nbformat_minor": 2
}
